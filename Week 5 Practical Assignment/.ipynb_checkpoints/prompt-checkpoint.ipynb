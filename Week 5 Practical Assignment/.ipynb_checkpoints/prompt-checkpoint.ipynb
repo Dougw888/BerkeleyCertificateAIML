{
 "cells": [
  {
   "cell_type": "markdown",
   "metadata": {
    "id": "CcUT6Fon_qRE"
   },
   "source": [
    "### Required Assignment 5.1: Will the Customer Accept the Coupon?\n",
    "\n",
    "**Context**\n",
    "\n",
    "Imagine driving through town and a coupon is delivered to your cell phone for a restaurant near where you are driving. Would you accept that coupon and take a short detour to the restaurant? Would you accept the coupon but use it on a subsequent trip? Would you ignore the coupon entirely? What if the coupon was for a bar instead of a restaurant? What about a coffee house? Would you accept a bar coupon with a minor passenger in the car? What about if it was just you and your partner in the car? Would weather impact the rate of acceptance? What about the time of day?\n",
    "\n",
    "Obviously, proximity to the business is a factor on whether the coupon is delivered to the driver or not, but what are the factors that determine whether a driver accepts the coupon once it is delivered to them? How would you determine whether a driver is likely to accept a coupon?\n",
    "\n",
    "**Overview**\n",
    "\n",
    "The goal of this project is to use what you know about visualizations and probability distributions to distinguish between customers who accepted a driving coupon versus those that did not.\n",
    "\n",
    "**Data**\n",
    "\n",
    "This data comes to us from the UCI Machine Learning repository and was collected via a survey on Amazon Mechanical Turk. The survey describes different driving scenarios including the destination, current time, weather, passenger, etc., and then ask the person whether he will accept the coupon if he is the driver. Answers that the user will drive there ‘right away’ or ‘later before the coupon expires’ are labeled as ‘Y = 1’ and answers ‘no, I do not want the coupon’ are labeled as ‘Y = 0’.  There are five different types of coupons -- less expensive restaurants (under \\$20), coffee houses, carry out & take away, bar, and more expensive restaurants (\\$20 - $50)."
   ]
  },
  {
   "cell_type": "markdown",
   "metadata": {
    "id": "1wORvMBJ_qRF"
   },
   "source": [
    "**Deliverables**\n",
    "\n",
    "Your final product should be a brief report that highlights the differences between customers who did and did not accept the coupons.  To explore the data you will utilize your knowledge of plotting, statistical summaries, and visualization using Python. You will publish your findings in a public facing github repository as your first portfolio piece.\n",
    "\n",
    "\n",
    "\n"
   ]
  },
  {
   "cell_type": "markdown",
   "metadata": {
    "id": "pG6_Ym6q_qRG"
   },
   "source": [
    "### Data Description\n",
    "Keep in mind that these values mentioned below are average values.\n",
    "\n",
    "The attributes of this data set include:\n",
    "1. User attributes\n",
    "    -  Gender: male, female\n",
    "    -  Age: below 21, 21 to 25, 26 to 30, etc.\n",
    "    -  Marital Status: single, married partner, unmarried partner, or widowed\n",
    "    -  Number of children: 0, 1, or more than 1\n",
    "    -  Education: high school, bachelors degree, associates degree, or graduate degree\n",
    "    -  Occupation: architecture & engineering, business & financial, etc.\n",
    "    -  Annual income: less than \\\\$12500, \\\\$12500 - \\\\$24999, \\\\$25000 - \\\\$37499, etc.\n",
    "    -  Number of times that he/she goes to a bar: 0, less than 1, 1 to 3, 4 to 8 or greater than 8\n",
    "    -  Number of times that he/she buys takeaway food: 0, less than 1, 1 to 3, 4 to 8 or greater\n",
    "    than 8\n",
    "    -  Number of times that he/she goes to a coffee house: 0, less than 1, 1 to 3, 4 to 8 or\n",
    "    greater than 8\n",
    "    -  Number of times that he/she eats at a restaurant with average expense less than \\\\$20 per\n",
    "    person: 0, less than 1, 1 to 3, 4 to 8 or greater than 8\n",
    "    -  Number of times that he/she goes to a bar: 0, less than 1, 1 to 3, 4 to 8 or greater than 8\n",
    "    \n",
    "\n",
    "2. Contextual attributes\n",
    "    - Driving destination: home, work, or no urgent destination\n",
    "    - Location of user, coupon and destination: we provide a map to show the geographical\n",
    "    location of the user, destination, and the venue, and we mark the distance between each\n",
    "    two places with time of driving. The user can see whether the venue is in the same\n",
    "    direction as the destination.\n",
    "    - Weather: sunny, rainy, or snowy\n",
    "    - Temperature: 30F, 55F, or 80F\n",
    "    - Time: 10AM, 2PM, or 6PM\n",
    "    - Passenger: alone, partner, kid(s), or friend(s)\n",
    "\n",
    "\n",
    "3. Coupon attributes\n",
    "    - time before it expires: 2 hours or one day"
   ]
  },
  {
   "cell_type": "code",
   "execution_count": 246,
   "metadata": {
    "id": "dzNoP3o__qRG"
   },
   "outputs": [],
   "source": [
    "import matplotlib.pyplot as plt\n",
    "import seaborn as sns\n",
    "import pandas as pd\n",
    "import numpy as np"
   ]
  },
  {
   "cell_type": "markdown",
   "metadata": {
    "id": "Ct8pI1uE_qRG"
   },
   "source": [
    "### Problems\n",
    "\n",
    "Use the prompts below to get started with your data analysis.  \n",
    "\n",
    "1. Read in the `coupons.csv` file.\n",
    "\n",
    "\n"
   ]
  },
  {
   "cell_type": "code",
   "execution_count": 249,
   "metadata": {
    "id": "X0vbffYg_qRH"
   },
   "outputs": [],
   "source": [
    "data = pd.read_csv('data/coupons.csv')"
   ]
  },
  {
   "cell_type": "code",
   "execution_count": 251,
   "metadata": {
    "id": "TXofQ_DF_qRH",
    "outputId": "2fc96a2c-1112-4b54-f24f-dbb9bc88abfb"
   },
   "outputs": [
    {
     "data": {
      "text/html": [
       "<div>\n",
       "<style scoped>\n",
       "    .dataframe tbody tr th:only-of-type {\n",
       "        vertical-align: middle;\n",
       "    }\n",
       "\n",
       "    .dataframe tbody tr th {\n",
       "        vertical-align: top;\n",
       "    }\n",
       "\n",
       "    .dataframe thead th {\n",
       "        text-align: right;\n",
       "    }\n",
       "</style>\n",
       "<table border=\"1\" class=\"dataframe\">\n",
       "  <thead>\n",
       "    <tr style=\"text-align: right;\">\n",
       "      <th></th>\n",
       "      <th>destination</th>\n",
       "      <th>passanger</th>\n",
       "      <th>weather</th>\n",
       "      <th>temperature</th>\n",
       "      <th>time</th>\n",
       "      <th>coupon</th>\n",
       "      <th>expiration</th>\n",
       "      <th>gender</th>\n",
       "      <th>age</th>\n",
       "      <th>maritalStatus</th>\n",
       "      <th>...</th>\n",
       "      <th>CoffeeHouse</th>\n",
       "      <th>CarryAway</th>\n",
       "      <th>RestaurantLessThan20</th>\n",
       "      <th>Restaurant20To50</th>\n",
       "      <th>toCoupon_GEQ5min</th>\n",
       "      <th>toCoupon_GEQ15min</th>\n",
       "      <th>toCoupon_GEQ25min</th>\n",
       "      <th>direction_same</th>\n",
       "      <th>direction_opp</th>\n",
       "      <th>Y</th>\n",
       "    </tr>\n",
       "  </thead>\n",
       "  <tbody>\n",
       "    <tr>\n",
       "      <th>0</th>\n",
       "      <td>No Urgent Place</td>\n",
       "      <td>Alone</td>\n",
       "      <td>Sunny</td>\n",
       "      <td>55</td>\n",
       "      <td>2PM</td>\n",
       "      <td>Restaurant(&lt;20)</td>\n",
       "      <td>1d</td>\n",
       "      <td>Female</td>\n",
       "      <td>21</td>\n",
       "      <td>Unmarried partner</td>\n",
       "      <td>...</td>\n",
       "      <td>never</td>\n",
       "      <td>NaN</td>\n",
       "      <td>4~8</td>\n",
       "      <td>1~3</td>\n",
       "      <td>1</td>\n",
       "      <td>0</td>\n",
       "      <td>0</td>\n",
       "      <td>0</td>\n",
       "      <td>1</td>\n",
       "      <td>1</td>\n",
       "    </tr>\n",
       "    <tr>\n",
       "      <th>1</th>\n",
       "      <td>No Urgent Place</td>\n",
       "      <td>Friend(s)</td>\n",
       "      <td>Sunny</td>\n",
       "      <td>80</td>\n",
       "      <td>10AM</td>\n",
       "      <td>Coffee House</td>\n",
       "      <td>2h</td>\n",
       "      <td>Female</td>\n",
       "      <td>21</td>\n",
       "      <td>Unmarried partner</td>\n",
       "      <td>...</td>\n",
       "      <td>never</td>\n",
       "      <td>NaN</td>\n",
       "      <td>4~8</td>\n",
       "      <td>1~3</td>\n",
       "      <td>1</td>\n",
       "      <td>0</td>\n",
       "      <td>0</td>\n",
       "      <td>0</td>\n",
       "      <td>1</td>\n",
       "      <td>0</td>\n",
       "    </tr>\n",
       "    <tr>\n",
       "      <th>2</th>\n",
       "      <td>No Urgent Place</td>\n",
       "      <td>Friend(s)</td>\n",
       "      <td>Sunny</td>\n",
       "      <td>80</td>\n",
       "      <td>10AM</td>\n",
       "      <td>Carry out &amp; Take away</td>\n",
       "      <td>2h</td>\n",
       "      <td>Female</td>\n",
       "      <td>21</td>\n",
       "      <td>Unmarried partner</td>\n",
       "      <td>...</td>\n",
       "      <td>never</td>\n",
       "      <td>NaN</td>\n",
       "      <td>4~8</td>\n",
       "      <td>1~3</td>\n",
       "      <td>1</td>\n",
       "      <td>1</td>\n",
       "      <td>0</td>\n",
       "      <td>0</td>\n",
       "      <td>1</td>\n",
       "      <td>1</td>\n",
       "    </tr>\n",
       "    <tr>\n",
       "      <th>3</th>\n",
       "      <td>No Urgent Place</td>\n",
       "      <td>Friend(s)</td>\n",
       "      <td>Sunny</td>\n",
       "      <td>80</td>\n",
       "      <td>2PM</td>\n",
       "      <td>Coffee House</td>\n",
       "      <td>2h</td>\n",
       "      <td>Female</td>\n",
       "      <td>21</td>\n",
       "      <td>Unmarried partner</td>\n",
       "      <td>...</td>\n",
       "      <td>never</td>\n",
       "      <td>NaN</td>\n",
       "      <td>4~8</td>\n",
       "      <td>1~3</td>\n",
       "      <td>1</td>\n",
       "      <td>1</td>\n",
       "      <td>0</td>\n",
       "      <td>0</td>\n",
       "      <td>1</td>\n",
       "      <td>0</td>\n",
       "    </tr>\n",
       "    <tr>\n",
       "      <th>4</th>\n",
       "      <td>No Urgent Place</td>\n",
       "      <td>Friend(s)</td>\n",
       "      <td>Sunny</td>\n",
       "      <td>80</td>\n",
       "      <td>2PM</td>\n",
       "      <td>Coffee House</td>\n",
       "      <td>1d</td>\n",
       "      <td>Female</td>\n",
       "      <td>21</td>\n",
       "      <td>Unmarried partner</td>\n",
       "      <td>...</td>\n",
       "      <td>never</td>\n",
       "      <td>NaN</td>\n",
       "      <td>4~8</td>\n",
       "      <td>1~3</td>\n",
       "      <td>1</td>\n",
       "      <td>1</td>\n",
       "      <td>0</td>\n",
       "      <td>0</td>\n",
       "      <td>1</td>\n",
       "      <td>0</td>\n",
       "    </tr>\n",
       "  </tbody>\n",
       "</table>\n",
       "<p>5 rows × 26 columns</p>\n",
       "</div>"
      ],
      "text/plain": [
       "       destination  passanger weather  temperature  time  \\\n",
       "0  No Urgent Place      Alone   Sunny           55   2PM   \n",
       "1  No Urgent Place  Friend(s)   Sunny           80  10AM   \n",
       "2  No Urgent Place  Friend(s)   Sunny           80  10AM   \n",
       "3  No Urgent Place  Friend(s)   Sunny           80   2PM   \n",
       "4  No Urgent Place  Friend(s)   Sunny           80   2PM   \n",
       "\n",
       "                  coupon expiration  gender age      maritalStatus  ...  \\\n",
       "0        Restaurant(<20)         1d  Female  21  Unmarried partner  ...   \n",
       "1           Coffee House         2h  Female  21  Unmarried partner  ...   \n",
       "2  Carry out & Take away         2h  Female  21  Unmarried partner  ...   \n",
       "3           Coffee House         2h  Female  21  Unmarried partner  ...   \n",
       "4           Coffee House         1d  Female  21  Unmarried partner  ...   \n",
       "\n",
       "   CoffeeHouse CarryAway RestaurantLessThan20 Restaurant20To50  \\\n",
       "0        never       NaN                  4~8              1~3   \n",
       "1        never       NaN                  4~8              1~3   \n",
       "2        never       NaN                  4~8              1~3   \n",
       "3        never       NaN                  4~8              1~3   \n",
       "4        never       NaN                  4~8              1~3   \n",
       "\n",
       "  toCoupon_GEQ5min toCoupon_GEQ15min toCoupon_GEQ25min direction_same  \\\n",
       "0                1                 0                 0              0   \n",
       "1                1                 0                 0              0   \n",
       "2                1                 1                 0              0   \n",
       "3                1                 1                 0              0   \n",
       "4                1                 1                 0              0   \n",
       "\n",
       "  direction_opp  Y  \n",
       "0             1  1  \n",
       "1             1  0  \n",
       "2             1  1  \n",
       "3             1  0  \n",
       "4             1  0  \n",
       "\n",
       "[5 rows x 26 columns]"
      ]
     },
     "execution_count": 251,
     "metadata": {},
     "output_type": "execute_result"
    }
   ],
   "source": [
    "data.head()"
   ]
  },
  {
   "cell_type": "markdown",
   "metadata": {
    "id": "GcDs78ZH_qRH"
   },
   "source": [
    "2. Investigate the dataset for missing or problematic data."
   ]
  },
  {
   "cell_type": "code",
   "execution_count": 254,
   "metadata": {
    "id": "6CwL6oWj_qRH"
   },
   "outputs": [
    {
     "name": "stdout",
     "output_type": "stream",
     "text": [
      "<class 'pandas.core.frame.DataFrame'>\n",
      "RangeIndex: 12684 entries, 0 to 12683\n",
      "Data columns (total 26 columns):\n",
      " #   Column                Non-Null Count  Dtype \n",
      "---  ------                --------------  ----- \n",
      " 0   destination           12684 non-null  object\n",
      " 1   passanger             12684 non-null  object\n",
      " 2   weather               12684 non-null  object\n",
      " 3   temperature           12684 non-null  int64 \n",
      " 4   time                  12684 non-null  object\n",
      " 5   coupon                12684 non-null  object\n",
      " 6   expiration            12684 non-null  object\n",
      " 7   gender                12684 non-null  object\n",
      " 8   age                   12684 non-null  object\n",
      " 9   maritalStatus         12684 non-null  object\n",
      " 10  has_children          12684 non-null  int64 \n",
      " 11  education             12684 non-null  object\n",
      " 12  occupation            12684 non-null  object\n",
      " 13  income                12684 non-null  object\n",
      " 14  car                   108 non-null    object\n",
      " 15  Bar                   12577 non-null  object\n",
      " 16  CoffeeHouse           12467 non-null  object\n",
      " 17  CarryAway             12533 non-null  object\n",
      " 18  RestaurantLessThan20  12554 non-null  object\n",
      " 19  Restaurant20To50      12495 non-null  object\n",
      " 20  toCoupon_GEQ5min      12684 non-null  int64 \n",
      " 21  toCoupon_GEQ15min     12684 non-null  int64 \n",
      " 22  toCoupon_GEQ25min     12684 non-null  int64 \n",
      " 23  direction_same        12684 non-null  int64 \n",
      " 24  direction_opp         12684 non-null  int64 \n",
      " 25  Y                     12684 non-null  int64 \n",
      "dtypes: int64(8), object(18)\n",
      "memory usage: 2.5+ MB\n",
      "car\n",
      "Scooter and motorcycle                      22\n",
      "Mazda5                                      22\n",
      "do not drive                                22\n",
      "crossover                                   21\n",
      "Car that is too old to install Onstar :D    21\n",
      "Name: count, dtype: int64\n",
      "coupon\n",
      "Coffee House             37\n",
      "Restaurant(<20)          23\n",
      "Bar                      21\n",
      "Carry out & Take away    16\n",
      "Restaurant(20-50)        10\n",
      "Name: count, dtype: int64\n"
     ]
    }
   ],
   "source": [
    "#see what data is missing\n",
    "data.info()\n",
    "#see what values \"car\" has and why so many are missing\n",
    "print(data[\"car\"].value_counts())\n",
    "#determine if there's any consistence with the missing values from 'bar'\n",
    "print(data[data[\"Bar\"].isnull()].coupon.value_counts())"
   ]
  },
  {
   "cell_type": "markdown",
   "metadata": {},
   "source": [
    "***\n",
    "### Description for 2\n",
    "Because \"Car\" has the most null values, and because less than 1% of values have an answer and it's mostly \"Scooter, motorcycle\" and \"Mazda 5\" we can delete the \"car\" data from the analysis. \n",
    "    \n",
    "Otherwise, there are only a few missing values on how often people go to each kind of establishment. We can ignore these values.\n",
    "***"
   ]
  },
  {
   "cell_type": "markdown",
   "metadata": {
    "id": "bSdVSpYB_qRH"
   },
   "source": [
    "3. Decide what to do about your missing data -- drop, replace, other..."
   ]
  },
  {
   "cell_type": "code",
   "execution_count": 258,
   "metadata": {
    "id": "tyvoAC5F_qRI"
   },
   "outputs": [
    {
     "name": "stdout",
     "output_type": "stream",
     "text": [
      "<class 'pandas.core.frame.DataFrame'>\n",
      "Index: 12079 entries, 22 to 12683\n",
      "Data columns (total 25 columns):\n",
      " #   Column                Non-Null Count  Dtype \n",
      "---  ------                --------------  ----- \n",
      " 0   destination           12079 non-null  object\n",
      " 1   passanger             12079 non-null  object\n",
      " 2   weather               12079 non-null  object\n",
      " 3   temperature           12079 non-null  int64 \n",
      " 4   time                  12079 non-null  object\n",
      " 5   coupon                12079 non-null  object\n",
      " 6   expiration            12079 non-null  object\n",
      " 7   gender                12079 non-null  object\n",
      " 8   age                   12079 non-null  object\n",
      " 9   maritalStatus         12079 non-null  object\n",
      " 10  has_children          12079 non-null  int64 \n",
      " 11  education             12079 non-null  object\n",
      " 12  occupation            12079 non-null  object\n",
      " 13  income                12079 non-null  object\n",
      " 14  Bar                   12079 non-null  object\n",
      " 15  CoffeeHouse           12079 non-null  object\n",
      " 16  CarryAway             12079 non-null  object\n",
      " 17  RestaurantLessThan20  12079 non-null  object\n",
      " 18  Restaurant20To50      12079 non-null  object\n",
      " 19  toCoupon_GEQ5min      12079 non-null  int64 \n",
      " 20  toCoupon_GEQ15min     12079 non-null  int64 \n",
      " 21  toCoupon_GEQ25min     12079 non-null  int64 \n",
      " 22  direction_same        12079 non-null  int64 \n",
      " 23  direction_opp         12079 non-null  int64 \n",
      " 24  Y                     12079 non-null  int64 \n",
      "dtypes: int64(8), object(17)\n",
      "memory usage: 2.4+ MB\n"
     ]
    }
   ],
   "source": [
    "#deleting \"car\" from dataset\n",
    "data = data.drop('car', axis=1)\n",
    "#dropping nulls from other columns (only lose about 600 entries and an equal proportion between yes and no acceptances)\n",
    "data = data.dropna()\n",
    "data.info()"
   ]
  },
  {
   "cell_type": "markdown",
   "metadata": {
    "id": "YE6oJbXd_qRI"
   },
   "source": [
    "4. What proportion of the total observations chose to accept the coupon?\n",
    "\n"
   ]
  },
  {
   "cell_type": "code",
   "execution_count": 659,
   "metadata": {
    "id": "86GGqBTv_qRI"
   },
   "outputs": [
    {
     "name": "stdout",
     "output_type": "stream",
     "text": [
      "Proportion of drivers that accept the coupon: 0.57\n"
     ]
    }
   ],
   "source": [
    "fraction_said_yes = (data[\"Y\"] == 1).sum()/len(data[\"Y\"])\n",
    "print(f'Proportion of drivers that accept the coupon: {fraction_said_yes:.2f}')"
   ]
  },
  {
   "cell_type": "markdown",
   "metadata": {
    "id": "vflz0DoE_qRI"
   },
   "source": [
    "5. Use a bar plot to visualize the `coupon` column."
   ]
  },
  {
   "cell_type": "code",
   "execution_count": 662,
   "metadata": {
    "id": "dHFh3E45_qRI"
   },
   "outputs": [
    {
     "data": {
      "text/plain": [
       "Text(0, 0.5, 'Coupon category')"
      ]
     },
     "execution_count": 662,
     "metadata": {},
     "output_type": "execute_result"
    },
    {
     "data": {
      "image/png": "[encoded data removed]",
      "text/plain": [
       "<Figure size 640x480 with 1 Axes>"
      ]
     },
     "metadata": {},
     "output_type": "display_data"
    }
   ],
   "source": [
    "sns.countplot(y = 'coupon', data = data)\n",
    "plt.title(\"Coupon counts by category\")\n",
    "plt.xlabel(\"Count of coupons offered\")\n",
    "plt.ylabel(\"Coupon category\")"
   ]
  },
  {
   "cell_type": "markdown",
   "metadata": {
    "id": "Qw4lCyx2_qRI"
   },
   "source": [
    "6. Use a histogram to visualize the temperature column."
   ]
  },
  {
   "cell_type": "code",
   "execution_count": 672,
   "metadata": {
    "id": "Yg9Anv71_qRI"
   },
   "outputs": [
    {
     "data": {
      "text/plain": [
       "Text(0, 0.5, 'Coupons offered')"
      ]
     },
     "execution_count": 672,
     "metadata": {},
     "output_type": "execute_result"
    },
    {
     "data": {
      "image/png": "[encoded data removed]",
      "text/plain": [
       "<Figure size 640x480 with 1 Axes>"
      ]
     },
     "metadata": {},
     "output_type": "display_data"
    }
   ],
   "source": [
    "sns.histplot(data = data, x = 'temperature')\n",
    "plt.title(\"Temperature on day coupon offered\")\n",
    "plt.xlabel(\"Temperature on day coupon offered\")\n",
    "plt.ylabel(\"Coupons offered\")"
   ]
  },
  {
   "cell_type": "code",
   "execution_count": null,
   "metadata": {
    "id": "7GBHZKBp_qRJ"
   },
   "outputs": [],
   "source": []
  },
  {
   "cell_type": "code",
   "execution_count": null,
   "metadata": {
    "id": "Y5nBUA-j_qRJ"
   },
   "outputs": [],
   "source": []
  },
  {
   "cell_type": "code",
   "execution_count": null,
   "metadata": {
    "id": "ShcUC-Vm_qRJ"
   },
   "outputs": [],
   "source": []
  },
  {
   "cell_type": "markdown",
   "metadata": {
    "id": "FupfgeJk_qRJ"
   },
   "source": [
    "**Investigating the Bar Coupons**\n",
    "\n",
    "Now, we will lead you through an exploration of just the bar related coupons.  \n",
    "\n",
    "1. Create a new `DataFrame` that contains just the bar coupons.\n"
   ]
  },
  {
   "cell_type": "code",
   "execution_count": 311,
   "metadata": {},
   "outputs": [],
   "source": [
    "coupons_df = data.copy()"
   ]
  },
  {
   "cell_type": "code",
   "execution_count": 317,
   "metadata": {
    "id": "tMBlWuGq_qRJ"
   },
   "outputs": [],
   "source": [
    "bar_coupons_df = coupons_df[coupons_df[\"coupon\"] == \"Bar\"]"
   ]
  },
  {
   "cell_type": "code",
   "execution_count": 321,
   "metadata": {},
   "outputs": [
    {
     "name": "stdout",
     "output_type": "stream",
     "text": [
      "<class 'pandas.core.frame.DataFrame'>\n",
      "Index: 1913 entries, 24 to 12682\n",
      "Data columns (total 25 columns):\n",
      " #   Column                Non-Null Count  Dtype \n",
      "---  ------                --------------  ----- \n",
      " 0   destination           1913 non-null   object\n",
      " 1   passanger             1913 non-null   object\n",
      " 2   weather               1913 non-null   object\n",
      " 3   temperature           1913 non-null   int64 \n",
      " 4   time                  1913 non-null   object\n",
      " 5   coupon                1913 non-null   object\n",
      " 6   expiration            1913 non-null   object\n",
      " 7   gender                1913 non-null   object\n",
      " 8   age                   1913 non-null   object\n",
      " 9   maritalStatus         1913 non-null   object\n",
      " 10  has_children          1913 non-null   int64 \n",
      " 11  education             1913 non-null   object\n",
      " 12  occupation            1913 non-null   object\n",
      " 13  income                1913 non-null   object\n",
      " 14  Bar                   1913 non-null   object\n",
      " 15  CoffeeHouse           1913 non-null   object\n",
      " 16  CarryAway             1913 non-null   object\n",
      " 17  RestaurantLessThan20  1913 non-null   object\n",
      " 18  Restaurant20To50      1913 non-null   object\n",
      " 19  toCoupon_GEQ5min      1913 non-null   int64 \n",
      " 20  toCoupon_GEQ15min     1913 non-null   int64 \n",
      " 21  toCoupon_GEQ25min     1913 non-null   int64 \n",
      " 22  direction_same        1913 non-null   int64 \n",
      " 23  direction_opp         1913 non-null   int64 \n",
      " 24  Y                     1913 non-null   int64 \n",
      "dtypes: int64(8), object(17)\n",
      "memory usage: 388.6+ KB\n"
     ]
    }
   ],
   "source": [
    "bar_coupons_df.head()\n",
    "bar_coupons_df.info()"
   ]
  },
  {
   "cell_type": "markdown",
   "metadata": {
    "id": "8ue6uCqf_qRJ"
   },
   "source": [
    "2. What proportion of bar coupons were accepted?\n"
   ]
  },
  {
   "cell_type": "code",
   "execution_count": 674,
   "metadata": {
    "id": "hSdte8Mi_qRK"
   },
   "outputs": [
    {
     "name": "stdout",
     "output_type": "stream",
     "text": [
      "Proportion of bar coupon accepted: 0.41\n"
     ]
    }
   ],
   "source": [
    "#can use .mean() since Y is a boolean \n",
    "fraction_said_yes_bar = (bar_coupons_df[\"Y\"] == 1).mean()\n",
    "print(f'Proportion of bar coupon accepted: {fraction_said_yes_bar:.2f}')"
   ]
  },
  {
   "cell_type": "markdown",
   "metadata": {
    "id": "85nA_iEi_qRK"
   },
   "source": [
    "3. Compare the acceptance rate between those who went to a bar 3 or fewer times a month to those who went more.\n"
   ]
  },
  {
   "cell_type": "code",
   "execution_count": 327,
   "metadata": {},
   "outputs": [
    {
     "data": {
      "text/plain": [
       "Bar\n",
       "never    788\n",
       "less1    553\n",
       "1~3      379\n",
       "4~8      147\n",
       "gt8       46\n",
       "Name: count, dtype: int64"
      ]
     },
     "execution_count": 327,
     "metadata": {},
     "output_type": "execute_result"
    }
   ],
   "source": [
    "bar_coupons_df['Bar'].value_counts()"
   ]
  },
  {
   "cell_type": "code",
   "execution_count": 353,
   "metadata": {
    "id": "LBOrN-XM_qRK"
   },
   "outputs": [],
   "source": [
    "#query for frequency of attending bar\n",
    "few_times_bar = [\"never\", \"less1\", \"1~3\"]\n",
    "three_or_fewer_bar_visits = bar_coupons_df.query('Bar in @few_times_bar')\n",
    "more_than_three_bar_visits = bar_coupons_df.query('Bar not in @few_times_bar')"
   ]
  },
  {
   "cell_type": "code",
   "execution_count": 680,
   "metadata": {},
   "outputs": [
    {
     "name": "stdout",
     "output_type": "stream",
     "text": [
      "Proportion who accepted coupon and go to three or fewer bar visits a month: 0.37\n",
      "Proportion who accepted coupon and go to more than three bar visits a month: 0.76\n"
     ]
    }
   ],
   "source": [
    "#calculate frequency that said yes to coupon (Y = 1)\n",
    "fraction_said_yes_bar_few = (three_or_fewer_bar_visits[\"Y\"] == 1).mean()\n",
    "print(f'Proportion who accepted coupon and go to three or fewer bar visits a month: {fraction_said_yes_bar_few:.2f}')\n",
    "fraction_said_yes_bar_many = (more_than_three_bar_visits[\"Y\"] == 1).mean()\n",
    "print(f'Proportion who accepted coupon and go to more than three bar visits a month: {fraction_said_yes_bar_many:.2f}')"
   ]
  },
  {
   "cell_type": "markdown",
   "metadata": {},
   "source": [
    "Clearly drivers who are regular bar goers are more likely to accept the coupon for the bar."
   ]
  },
  {
   "cell_type": "markdown",
   "metadata": {
    "id": "RBgcQwH4_qRK"
   },
   "source": [
    "4. Compare the acceptance rate between drivers who go to a bar more than once a month and are over the age of 25 to the all others.  Is there a difference?\n"
   ]
  },
  {
   "cell_type": "code",
   "execution_count": 604,
   "metadata": {
    "id": "bf28bbeX_qRK"
   },
   "outputs": [
    {
     "data": {
      "text/plain": [
       "age\n",
       "21         397\n",
       "26         368\n",
       "31         324\n",
       "50plus     273\n",
       "36         196\n",
       "41         171\n",
       "46         103\n",
       "below21     81\n",
       "Name: count, dtype: int64"
      ]
     },
     "execution_count": 604,
     "metadata": {},
     "output_type": "execute_result"
    }
   ],
   "source": [
    "bar_coupons_df['age'].value_counts()"
   ]
  },
  {
   "cell_type": "code",
   "execution_count": 689,
   "metadata": {},
   "outputs": [
    {
     "name": "stdout",
     "output_type": "stream",
     "text": [
      "Proportion of drivers that accepted coupon and are over 25 and go to bar more than once a month: 0.69\n"
     ]
    }
   ],
   "source": [
    "under_26 = ['below21','21']\n",
    "bar_under_once_monthly = ['never','less1']\n",
    "#query for over age of 25 and goes to bar more than once a month\n",
    "bar_more_than_once_and_over_25 = bar_coupons_df.query('Bar not in @bar_under_once_monthly & age not in @under_26')\n",
    "#determine fraction of people that are over 25 and said yes to the coupon\n",
    "fraction_said_yes_bar_once_or_more_and_over_25 = (bar_more_than_once_and_over_25[\"Y\"] == 1).mean()\n",
    "print(f'Proportion of drivers that accepted coupon and are over 25 and go to bar more than once a month: '\n",
    "    f'{fraction_said_yes_bar_once_or_more_and_over_25:.2f}')"
   ]
  },
  {
   "cell_type": "markdown",
   "metadata": {},
   "source": [
    "***\n",
    "### Description for 4\n",
    "The fraction of drivers who go to the bar 1 or more times a month and are over the age of 25 and accept the coupon is ~69%. This is lower than the fraction of drivers who go to the bar more than 3 times a month that accept the coupon (76%). If we filter for over 25 and go to the bar 3 or more times a month it ends up being the same 76% that accept the coupon. This implies that the likelihood of accepting the coupon is probably more sensitive to how many times a month a driver goes to the bar than it is to age.\n",
    "***"
   ]
  },
  {
   "cell_type": "markdown",
   "metadata": {
    "id": "S4RKT4PJ_qRK"
   },
   "source": [
    "5. Use the same process to compare the acceptance rate between drivers who go to bars more than once a month and had passengers that were not a kid and had occupations other than farming, fishing, or forestry.\n"
   ]
  },
  {
   "cell_type": "code",
   "execution_count": 401,
   "metadata": {
    "id": "sENaI2Tg_qRK"
   },
   "outputs": [
    {
     "name": "stdout",
     "output_type": "stream",
     "text": [
      "passanger\n",
      "Alone        1141\n",
      "Friend(s)     318\n",
      "Partner       260\n",
      "Kid(s)        194\n",
      "Name: count, dtype: int64\n",
      "occupation\n",
      "Unemployed                                   292\n",
      "Student                                      237\n",
      "Computer & Mathematical                      225\n",
      "Sales & Related                              175\n",
      "Education&Training&Library                   125\n",
      "Management                                   108\n",
      "Office & Administrative Support              101\n",
      "Arts Design Entertainment Sports & Media      88\n",
      "Business & Financial                          82\n",
      "Retired                                       71\n",
      "Healthcare Support                            44\n",
      "Food Preparation & Serving Related            43\n",
      "Community & Social Services                   40\n",
      "Healthcare Practitioners & Technical          36\n",
      "Transportation & Material Moving              35\n",
      "Legal                                         34\n",
      "Protective Service                            27\n",
      "Architecture & Engineering                    27\n",
      "Personal Care & Service                       25\n",
      "Construction & Extraction                     24\n",
      "Life Physical Social Science                  24\n",
      "Installation Maintenance & Repair             18\n",
      "Production Occupations                        16\n",
      "Farming Fishing & Forestry                     9\n",
      "Building & Grounds Cleaning & Maintenance      7\n",
      "Name: count, dtype: int64\n"
     ]
    }
   ],
   "source": [
    "print(bar_coupons_df['passanger'].value_counts())\n",
    "print(bar_coupons_df['occupation'].value_counts())"
   ]
  },
  {
   "cell_type": "code",
   "execution_count": 693,
   "metadata": {},
   "outputs": [
    {
     "name": "stdout",
     "output_type": "stream",
     "text": [
      "Proportion that accepted coupon and go to bar more than once a month, wasn't alone or with kid, and not a farmer: 0.71\n"
     ]
    }
   ],
   "source": [
    "#creating series to query on for with a passenger that's not a kid and farming jobs\n",
    "not_self_or_kid = ['Friend(s)', 'Partner']\n",
    "occupation_fish_farm_forest = ['Farming Fishing & Forestry']\n",
    "#create the dataframe to compute on\n",
    "bar_more_than_once_and_with_passenger_and_not_farmer = bar_coupons_df.query(\n",
    "    'Bar not in @bar_under_once_monthly & passanger in @not_self_or_kid & occupation not in @occupation_fish_farm_forest')\n",
    "#calculate fraction that said yes according to the criteria\n",
    "fraction_said_yes_bar_once_or_more_with_passenger_and_not_a_farmer = (bar_more_than_once_and_with_passenger_and_not_farmer[\"Y\"] == 1).mean()\n",
    "print(f'Proportion that accepted coupon and go to bar more than once a month, wasn\\'t alone or with kid, and not a farmer: '\n",
    "    f'{fraction_said_yes_bar_once_or_more_with_passenger_and_not_a_farmer:.2f}')"
   ]
  },
  {
   "cell_type": "markdown",
   "metadata": {
    "id": "n2LIUTil_qRK"
   },
   "source": [
    "6. Compare the acceptance rates between those drivers who:\n",
    "\n",
    "- go to bars more than once a month, had passengers that were not a kid, and were not widowed *OR*\n",
    "- go to bars more than once a month and are under the age of 30 *OR*\n",
    "- go to cheap restaurants more than 4 times a month and income is less than 50K.\n",
    "\n"
   ]
  },
  {
   "cell_type": "code",
   "execution_count": 415,
   "metadata": {},
   "outputs": [
    {
     "name": "stdout",
     "output_type": "stream",
     "text": [
      "maritalStatus\n",
      "Married partner      833\n",
      "Single               638\n",
      "Unmarried partner    352\n",
      "Divorced              73\n",
      "Widowed               17\n",
      "Name: count, dtype: int64\n",
      "income\n",
      "$25000 - $37499     300\n",
      "$100000 or More     282\n",
      "$12500 - $24999     271\n",
      "$50000 - $62499     249\n",
      "$37500 - $49999     247\n",
      "Less than $12500    159\n",
      "$75000 - $87499     143\n",
      "$87500 - $99999     133\n",
      "$62500 - $74999     129\n",
      "Name: count, dtype: int64\n",
      "RestaurantLessThan20\n",
      "1~3      839\n",
      "4~8      548\n",
      "less1    312\n",
      "gt8      186\n",
      "never     28\n",
      "Name: count, dtype: int64\n"
     ]
    }
   ],
   "source": [
    "#determine the option sets\n",
    "print(bar_coupons_df[\"maritalStatus\"].value_counts())\n",
    "print(bar_coupons_df[\"income\"].value_counts())\n",
    "print(bar_coupons_df[\"RestaurantLessThan20\"].value_counts())"
   ]
  },
  {
   "cell_type": "code",
   "execution_count": 417,
   "metadata": {},
   "outputs": [],
   "source": [
    "#build query sets\n",
    "widowed = [\"Widowed\"]\n",
    "under_30 = ['below21','21','26']\n",
    "four_or_more_times = [\"4~8\", \"gt8\"]\n",
    "income_under_50K = ['Less than $12500','$12500 - $24999','$25000 - $37499','$37500 - $49999']"
   ]
  },
  {
   "cell_type": "code",
   "execution_count": 806,
   "metadata": {
    "id": "aK_wEzx7_qRK"
   },
   "outputs": [
    {
     "name": "stdout",
     "output_type": "stream",
     "text": [
      "Proportion that accepted coupon and go to bar more than once a month, wasn't alone or with kid, and not a widow: 0.71\n",
      "Proportion that accepted coupon and go to bar more than once a month and under 30: 0.72\n",
      "Proportion that accepted coupon and goes to cheap restaurant more than 4 times a month and income under 50K: 0.46\n"
     ]
    }
   ],
   "source": [
    "#get fraction for goes more than once a month, has passanger, and not a widow\n",
    "bar_more_than_once_with_passenger_not_widowed = bar_coupons_df.query(\n",
    "    'Bar not in @bar_under_once_monthly & passanger in @not_self_or_kid & maritalStatus not in @widowed')\n",
    "fraction_said_yes_bar_once_or_more_with_passenger_not_widow = (bar_more_than_once_with_passenger_not_widowed[\"Y\"] == 1).mean()\n",
    "print(f'Proportion that accepted coupon and go to bar more than once a month, wasn\\'t alone or with kid, and not a widow: '\n",
    "    f'{fraction_said_yes_bar_once_or_more_with_passenger_not_widow:.2f}')\n",
    "\n",
    "#get fraction for goes more than once a month and under age of 30\n",
    "bar_more_than_once_under_30 = bar_coupons_df.query('Bar not in @bar_under_once_monthly & age in @under_30')\n",
    "fraction_said_yes_bar_once_or_more_under_30 = (bar_more_than_once_under_30['Y'] == 1).mean()\n",
    "print(f'Proportion that accepted coupon and go to bar more than once a month and under 30: '\n",
    "    f'{fraction_said_yes_bar_once_or_more_under_30:.2f}')\n",
    "\n",
    "#get fraction for goes to cheap restaurants more than 4 times a month and income is less than 50K\n",
    "bar_income_under_50K_cheap_eater = bar_coupons_df.query('RestaurantLessThan20 in @four_or_more_times & income in @income_under_50K')\n",
    "fraction_said_yes_income_under_50K_cheap_eater = (bar_income_under_50K_cheap_eater['Y'] == 1).mean()\n",
    "print(f'Proportion that accepted coupon and goes to cheap restaurant more than 4 times a month and income under 50K: '\n",
    "    f'{fraction_said_yes_income_under_50K_cheap_eater:.2f}')"
   ]
  },
  {
   "cell_type": "markdown",
   "metadata": {
    "id": "v3fL3QkO_qRK"
   },
   "source": [
    "7.  Based on these observations, what do you hypothesize about drivers who accepted the bar coupons?"
   ]
  },
  {
   "cell_type": "markdown",
   "metadata": {
    "id": "Y48naDFh_qRL"
   },
   "source": [
    "***\n",
    "### Description for 7\n",
    "There appears to be a relationship between whether a driver accepts the coupon for a bar and how often they frequent a bar in a month\n",
    "\n",
    "Filtering on other data values doesn't seem to change the fraction that accept the coupon by more than a couple percent than the baseline acceptance rate for drivers who frequent a bar more than 4 times a month.\n",
    "\n",
    "However, there probably is some other factors that slightly change how people accept bar coupons. For example, lower income people may not be willing to spend money at a bar regardless of discounts. Or, people under 21 may not attend bars at all. Or, people with kids may be less likely to use a bar coupon.\n",
    "***"
   ]
  },
  {
   "cell_type": "markdown",
   "metadata": {
    "id": "r4Hu1zOb_qRL"
   },
   "source": [
    "### Independent Investigation\n",
    "\n",
    "Using the bar coupon example as motivation, you are to explore one of the other coupon groups and try to determine the characteristics of passengers who accept the coupons.  "
   ]
  },
  {
   "cell_type": "markdown",
   "metadata": {},
   "source": [
    "***\n",
    "# Independent Investigation into Carryout and Takeaway\n",
    "Will be looking at the Carryout and Takeaway trends and how different factors influence if someone is willing to use the coupon or not"
   ]
  },
  {
   "cell_type": "code",
   "execution_count": 444,
   "metadata": {
    "id": "0c71cQhu_qRL"
   },
   "outputs": [
    {
     "name": "stdout",
     "output_type": "stream",
     "text": [
      "<class 'pandas.core.frame.DataFrame'>\n",
      "Index: 2280 entries, 25 to 12680\n",
      "Data columns (total 25 columns):\n",
      " #   Column                Non-Null Count  Dtype \n",
      "---  ------                --------------  ----- \n",
      " 0   destination           2280 non-null   object\n",
      " 1   passanger             2280 non-null   object\n",
      " 2   weather               2280 non-null   object\n",
      " 3   temperature           2280 non-null   int64 \n",
      " 4   time                  2280 non-null   object\n",
      " 5   coupon                2280 non-null   object\n",
      " 6   expiration            2280 non-null   object\n",
      " 7   gender                2280 non-null   object\n",
      " 8   age                   2280 non-null   object\n",
      " 9   maritalStatus         2280 non-null   object\n",
      " 10  has_children          2280 non-null   int64 \n",
      " 11  education             2280 non-null   object\n",
      " 12  occupation            2280 non-null   object\n",
      " 13  income                2280 non-null   object\n",
      " 14  Bar                   2280 non-null   object\n",
      " 15  CoffeeHouse           2280 non-null   object\n",
      " 16  CarryAway             2280 non-null   object\n",
      " 17  RestaurantLessThan20  2280 non-null   object\n",
      " 18  Restaurant20To50      2280 non-null   object\n",
      " 19  toCoupon_GEQ5min      2280 non-null   int64 \n",
      " 20  toCoupon_GEQ15min     2280 non-null   int64 \n",
      " 21  toCoupon_GEQ25min     2280 non-null   int64 \n",
      " 22  direction_same        2280 non-null   int64 \n",
      " 23  direction_opp         2280 non-null   int64 \n",
      " 24  Y                     2280 non-null   int64 \n",
      "dtypes: int64(8), object(17)\n",
      "memory usage: 463.1+ KB\n"
     ]
    }
   ],
   "source": [
    "#create data frame for coupon offered for carryout and takeaway\n",
    "carryout_df = coupons_df[coupons_df[\"coupon\"] == \"Carry out & Take away\"]\n",
    "carryout_df.info()"
   ]
  },
  {
   "cell_type": "code",
   "execution_count": 637,
   "metadata": {},
   "outputs": [
    {
     "name": "stdout",
     "output_type": "stream",
     "text": [
      "Overall acceptance rate for carryout coupon:  0.74\n"
     ]
    }
   ],
   "source": [
    "#determine overall accpetance rate and base stats\n",
    "fraction_said_yes_carryout = (carryout_df[\"Y\"] == 1).mean()\n",
    "print(f'Overall acceptance rate for carryout coupon: {fraction_said_yes_carryout: .2f}')"
   ]
  },
  {
   "cell_type": "code",
   "execution_count": 655,
   "metadata": {
    "id": "QEsBkvIN_qRL"
   },
   "outputs": [
    {
     "name": "stdout",
     "output_type": "stream",
     "text": [
      "              Y\n",
      "CarryAway      \n",
      "1~3        0.74\n",
      "4~8        0.75\n",
      "gt8        0.75\n",
      "less1      0.68\n",
      "never      0.79\n"
     ]
    }
   ],
   "source": [
    "## determine if frequency of carryout has an impact\n",
    "carryout_by_frequency = carryout_df.groupby('CarryAway')[['Y']].mean().round(2)\n",
    "print(carryout_by_frequency)"
   ]
  },
  {
   "cell_type": "markdown",
   "metadata": {},
   "source": [
    "__It doesn't seem to matter how often a customer gets carryout in a given month, their acceptance of the coupon seems to be the same, unless you \"never\" eat carryout and then there may be some appreciable increase__"
   ]
  },
  {
   "cell_type": "code",
   "execution_count": 794,
   "metadata": {},
   "outputs": [
    {
     "name": "stdout",
     "output_type": "stream",
     "text": [
      "                     Y\n",
      "toCoupon_GEQ5min      \n",
      "1                 0.74\n",
      "                      Y\n",
      "toCoupon_GEQ15min      \n",
      "0                  0.75\n",
      "1                  0.73\n",
      "                      Y\n",
      "toCoupon_GEQ25min      \n",
      "0                  0.74\n",
      "1                  0.75\n"
     ]
    }
   ],
   "source": [
    "#determine if distance to carryout has an impact\n",
    "carryout_by_distance_5min = carryout_df.groupby('toCoupon_GEQ5min')[['Y']].mean().round(2)\n",
    "print(carryout_by_distance_5min)\n",
    "carryout_by_distance_15min = carryout_df.groupby('toCoupon_GEQ15min')[['Y']].mean().round(2)\n",
    "print(carryout_by_distance_15min)\n",
    "carryout_by_distance_25min = carryout_df.groupby('toCoupon_GEQ25min')[['Y']].mean().round(2)\n",
    "print(carryout_by_distance_25min)"
   ]
  },
  {
   "cell_type": "markdown",
   "metadata": {},
   "source": [
    "__Distance to the restaurant also doesn't seem to matter__"
   ]
  },
  {
   "cell_type": "code",
   "execution_count": 775,
   "metadata": {},
   "outputs": [
    {
     "data": {
      "text/plain": [
       "Text(0.74, 2, 'overall acceptance rate')"
      ]
     },
     "execution_count": 775,
     "metadata": {},
     "output_type": "execute_result"
    },
    {
     "data": {
      "image/png": "[encoded data removed]",
      "text/plain": [
       "<Figure size 640x480 with 1 Axes>"
      ]
     },
     "metadata": {},
     "output_type": "display_data"
    }
   ],
   "source": [
    "#determine if income has an impact by plotting the coupon users to income and the income bracket on one plot\n",
    "carryout_by_income = carryout_df.groupby('income')[['Y']].mean()\n",
    "sorted_income = [\n",
    "    '$100000 or More', '$87500 - $99999','$75000 - $87499','$62500 - $74999','$50000 - $62499',\n",
    "    '$37500 - $49999','$25000 - $37499','$12500 - $24999','Less than $12500']\n",
    "sns.barplot(data = carryout_by_income, x = 'Y', y = 'income',order = sorted_income)\n",
    "plt.title(\"Fraction of customers accepting carryout coupons by income\")\n",
    "plt.xlabel(\"Fraction accepting coupon for carryout\")\n",
    "plt.ylabel(\"Income of driver\")\n",
    "plt.axvline(fraction_said_yes_carryout, color = 'red')\n",
    "plt.text(.74, 2, \"overall acceptance rate\", color=\"red\")"
   ]
  },
  {
   "cell_type": "markdown",
   "metadata": {},
   "source": [
    "__There also doesn't seem to be much relationship between income and likelihood to accept the coupon for carryout, but lower incomes may be slightly more likely to accept the coupon.__"
   ]
  },
  {
   "cell_type": "code",
   "execution_count": 699,
   "metadata": {
    "id": "RrqUWn7d_qRL"
   },
   "outputs": [
    {
     "name": "stdout",
     "output_type": "stream",
     "text": [
      "           Y\n",
      "gender      \n",
      "Female  0.72\n",
      "Male    0.76\n"
     ]
    }
   ],
   "source": [
    "#determine if gender, age, or marital status has an impact\n",
    "carryout_by_gender = carryout_df.groupby('gender')[['Y']].mean().round(2)\n",
    "print(carryout_by_gender)"
   ]
  },
  {
   "cell_type": "markdown",
   "metadata": {},
   "source": [
    "__Males are slightly more likely to accept coupon for carryout__"
   ]
  },
  {
   "cell_type": "code",
   "execution_count": 701,
   "metadata": {},
   "outputs": [
    {
     "name": "stdout",
     "output_type": "stream",
     "text": [
      "            Y\n",
      "age          \n",
      "21       0.74\n",
      "26       0.73\n",
      "31       0.72\n",
      "36       0.74\n",
      "41       0.73\n",
      "46       0.72\n",
      "50plus   0.77\n",
      "below21  0.72\n"
     ]
    }
   ],
   "source": [
    "carryout_by_age = carryout_df.groupby('age')[['Y']].mean().round(2)\n",
    "print(carryout_by_age)"
   ]
  },
  {
   "cell_type": "markdown",
   "metadata": {},
   "source": [
    "__Somewhat surprisingly, there is higher frequency for using the coupon in drivers over 50 years old, but overall, age only varies acceptance rate by a few percentage points.__"
   ]
  },
  {
   "cell_type": "code",
   "execution_count": 706,
   "metadata": {},
   "outputs": [
    {
     "name": "stdout",
     "output_type": "stream",
     "text": [
      "                      Y\n",
      "maritalStatus          \n",
      "Divorced           0.72\n",
      "Married partner    0.73\n",
      "Single             0.76\n",
      "Unmarried partner  0.71\n",
      "Widowed            0.85\n"
     ]
    }
   ],
   "source": [
    "carryout_by_status = carryout_df.groupby('maritalStatus')[['Y']].mean().round(2)\n",
    "print(carryout_by_status)"
   ]
  },
  {
   "cell_type": "markdown",
   "metadata": {},
   "source": [
    "__Additionally, widowed drivers are more likely to order takeout as well when offered the coupon.__"
   ]
  },
  {
   "cell_type": "code",
   "execution_count": 709,
   "metadata": {},
   "outputs": [
    {
     "name": "stdout",
     "output_type": "stream",
     "text": [
      "         Y\n",
      "time      \n",
      "10AM  0.70\n",
      "10PM  0.77\n",
      "2PM   0.87\n",
      "6PM   0.82\n",
      "7AM   0.66\n"
     ]
    }
   ],
   "source": [
    "carryout_by_time = carryout_df.groupby('time')[['Y']].mean().round(2)\n",
    "print(carryout_by_time)"
   ]
  },
  {
   "cell_type": "markdown",
   "metadata": {},
   "source": [
    "__Coupons more likely to be accepted in the afternoon, especially around 2PM and 6PM which would be natural meal times.__"
   ]
  },
  {
   "cell_type": "code",
   "execution_count": 712,
   "metadata": {},
   "outputs": [
    {
     "name": "stdout",
     "output_type": "stream",
     "text": [
      "                 Y\n",
      "has_children      \n",
      "0             0.74\n",
      "1             0.74\n"
     ]
    }
   ],
   "source": [
    "carryout_by_has_children = carryout_df.groupby('has_children')[['Y']].mean().round(2)\n",
    "print(carryout_by_has_children)"
   ]
  },
  {
   "cell_type": "markdown",
   "metadata": {},
   "source": [
    "__Surprisingly precense of children doesn't change how frequently someone accepts coupon.__"
   ]
  },
  {
   "cell_type": "code",
   "execution_count": 745,
   "metadata": {},
   "outputs": [
    {
     "name": "stdout",
     "output_type": "stream",
     "text": [
      "                                           Y\n",
      "education                                   \n",
      "Associates degree                       0.83\n",
      "Bachelors degree                        0.72\n",
      "Graduate degree (Masters or Doctorate)  0.65\n",
      "High School Graduate                    0.74\n",
      "Some High School                        0.94\n",
      "Some college - no degree                0.76\n",
      " \n",
      "education\n",
      "Some college - no degree                  783\n",
      "Bachelors degree                          754\n",
      "Graduate degree (Masters or Doctorate)    350\n",
      "Associates degree                         202\n",
      "High School Graduate                      175\n",
      "Some High School                           16\n",
      "Name: count, dtype: int64\n"
     ]
    }
   ],
   "source": [
    "carryout_by_education = carryout_df.groupby('education')[['Y']].mean().round(2)\n",
    "print(carryout_by_education)\n",
    "print(\" \")\n",
    "print(carryout_df['education'].value_counts())"
   ]
  },
  {
   "cell_type": "markdown",
   "metadata": {},
   "source": [
    "__Those with some education, like high school, college, or associates degree, are more likely to accept the coupon. However, there are very few drivers (16) in the Some High School bucket which likely skews the average of coupon acceptance.__"
   ]
  },
  {
   "cell_type": "code",
   "execution_count": 889,
   "metadata": {},
   "outputs": [
    {
     "name": "stdout",
     "output_type": "stream",
     "text": [
      "              Y\n",
      "passanger      \n",
      "Alone      0.73\n",
      "Friend(s)  0.76\n",
      "Kid(s)     0.70\n",
      "Partner    0.72\n"
     ]
    }
   ],
   "source": [
    "carryout_by_passenger = carryout_df.groupby('passanger')[['Y']].mean().round(2)\n",
    "print(carryout_by_passenger)"
   ]
  },
  {
   "cell_type": "markdown",
   "metadata": {},
   "source": [
    "__Passenger doesn't have much of an impact except for kids, likely because parents don't want to stop for food last second.__"
   ]
  },
  {
   "cell_type": "code",
   "execution_count": 751,
   "metadata": {},
   "outputs": [
    {
     "name": "stdout",
     "output_type": "stream",
     "text": [
      "                    Y\n",
      "destination          \n",
      "Home             0.79\n",
      "No Urgent Place  0.76\n",
      "Work             0.66\n"
     ]
    }
   ],
   "source": [
    "carryout_by_destination = carryout_df.groupby('destination')[['Y']].mean().round(2)\n",
    "print(carryout_by_destination)"
   ]
  },
  {
   "cell_type": "markdown",
   "metadata": {},
   "source": [
    "__Drivers are slightly more likely to accept the carryout coupon if on the way home.__"
   ]
  },
  {
   "cell_type": "code",
   "execution_count": 798,
   "metadata": {},
   "outputs": [
    {
     "name": "stdout",
     "output_type": "stream",
     "text": [
      "Overall afternoon carryout acceptance rate: 0.81\n",
      "            Y\n",
      "age          \n",
      "21       0.82\n",
      "26       0.82\n",
      "31       0.73\n",
      "36       0.82\n",
      "41       0.84\n",
      "46       0.79\n",
      "50plus   0.83\n",
      "below21  0.80\n",
      "                     Y\n",
      "income                \n",
      "$100000 or More   0.77\n",
      "$12500 - $24999   0.85\n",
      "$25000 - $37499   0.86\n",
      "$37500 - $49999   0.75\n",
      "$50000 - $62499   0.84\n",
      "$62500 - $74999   0.77\n",
      "$75000 - $87499   0.73\n",
      "$87500 - $99999   0.79\n",
      "Less than $12500  0.85\n",
      "                    Y\n",
      "destination          \n",
      "Home             0.79\n",
      "No Urgent Place  0.83\n"
     ]
    },
    {
     "data": {
      "image/png": "[encoded data removed]",
      "text/plain": [
       "<Figure size 640x480 with 1 Axes>"
      ]
     },
     "metadata": {},
     "output_type": "display_data"
    }
   ],
   "source": [
    "#let's see if there's any trends within the afternoon where it's more likely the coupon is accepted\n",
    "afternoon = ['2PM','6PM','10PM']\n",
    "\n",
    "carryout_afternoon_df = carryout_df.query('time in @afternoon')\n",
    "fraction_said_yes_carryout_afternoon = carryout_afternoon_df['Y'].mean()\n",
    "print(f'Overall afternoon carryout acceptance rate: {fraction_said_yes_carryout_afternoon:.2f}')\n",
    "\n",
    "carryout_afternoon_by_age = carryout_afternoon_df.groupby('age')[['Y']].mean().round(2)\n",
    "print(carryout_afternoon_by_age)\n",
    "\n",
    "carryout_afternoon_by_income = carryout_afternoon_df.groupby('income')[['Y']].mean().round(2)\n",
    "print(carryout_afternoon_by_income)\n",
    "\n",
    "sns.barplot(data = carryout_afternoon_by_income, x = 'Y', y = 'income',order = sorted_income)\n",
    "plt.title(\"Fraction of customers accepting carryout coupons in the afternoon by income\")\n",
    "plt.xlabel(\"Fraction accepting coupon for carryout in afternoon\")\n",
    "plt.ylabel(\"Income of driver\")\n",
    "plt.axvline((carryout_afternoon_df['Y'] == 1).mean(), color = 'red')\n",
    "plt.text(.81, 2, \"overall afternoon acceptance rate\", color=\"red\")\n",
    "\n",
    "carryout_afternoon_by_destination = carryout_afternoon_df.groupby('destination')[['Y']].mean().round(2)\n",
    "print(carryout_afternoon_by_destination)"
   ]
  },
  {
   "cell_type": "markdown",
   "metadata": {},
   "source": [
    "__When we segment out the data to just look at the afternoon, we see some differences in our prior trends. We see location doesn't seem to matter, lower income is slightly more likely to accept the coupon, and the coupon acceptance rate by age is less variable. However, the acceptance rate for marital status and drivers that order takeaway more than once a month may see bigger differences__"
   ]
  },
  {
   "cell_type": "code",
   "execution_count": 877,
   "metadata": {},
   "outputs": [
    {
     "name": "stdout",
     "output_type": "stream",
     "text": [
      "Proportion of drivers who accept carryout coupon in the afternoon for single drivers: 0.84\n",
      "           Y\n",
      "gender      \n",
      "Female  0.82\n",
      "Male    0.85\n",
      "\n",
      "Proportion of drivers who accept carryout coupon in the afternoon for drivers who order carryout over 1 time per month: 0.82\n",
      "           Y\n",
      "gender      \n",
      "Female  0.81\n",
      "Male    0.83\n"
     ]
    }
   ],
   "source": [
    "#specific looks at carryaway frequency and marital status\n",
    "single = ['Divorced','Single','Widowed']\n",
    "CarryAway_over_1 = ['1~3','4~8','gt8']\n",
    "\n",
    "#determine if afternoon acceptance is higher in single drivers\n",
    "carryout_afternoon_single_df = carryout_afternoon_df.query('maritalStatus in @single')\n",
    "frequency_carryout_afternoon_single = (carryout_afternoon_single_df['Y'] == 1).mean()\n",
    "print(f'Proportion of drivers who accept carryout coupon in the afternoon for single drivers: '\n",
    "    f'{frequency_carryout_afternoon_single:.2f}')\n",
    "\n",
    "#within single, does gender matter?\n",
    "frequency_carryout_afternoon_single_gender = carryout_afternoon_single_df.groupby('gender')[['Y']].mean().round(2)\n",
    "print(frequency_carryout_afternoon_single_gender, end = '\\n\\n')\n",
    "\n",
    "#look at how past carryout behavior determines frequency in the afternoon\n",
    "carryout_afternoon_CarryAway_over_1_df = carryout_afternoon_df.query('CarryAway in @CarryAway_over_1')\n",
    "frequency_carryout_afternoon_CarryAway_over_1 = (carryout_afternoon_CarryAway_over_1_df['Y'] == 1).mean()\n",
    "print(f'Proportion of drivers who accept carryout coupon in the afternoon for drivers who order carryout over 1 time per month: '\n",
    "    f'{frequency_carryout_afternoon_CarryAway_over_1:.2f}')\n",
    "\n",
    "#within frequent carryout users, does gender matter?\n",
    "frequency_carryout_afternoon_CarryAway_over_1_gender = carryout_afternoon_CarryAway_over_1_df.groupby('gender')[['Y']].mean().round(2)\n",
    "print(frequency_carryout_afternoon_CarryAway_over_1_gender)\n",
    "\n",
    "\n"
   ]
  },
  {
   "cell_type": "markdown",
   "metadata": {},
   "source": [
    "__In reality, there is a slightly higher frequency for afternoon drivers that are single or order takeaway than the overall group, but not as much as we'd expect to see given the higher rates of acceptance for single and widowed drivers in the overall sample. Within these two groups, males still have higher acceptance rates than females.__"
   ]
  },
  {
   "cell_type": "markdown",
   "metadata": {},
   "source": [
    "***\n",
    "### Findings\n",
    "Drivers are more likely to accept a carryout coupon offer under a few conditions:\n",
    "1. It's the afternoon (81% vs. 74% overall), drivers are more likely to be on the way home and more likely to have takeout around lunch or dinner times\n",
    "2. They are male (3-4% higher likelihood in each category)\n",
    "3. Lower income (less than $63K)\n",
    "4. They are single (either single, divorced, or widowed) - these drivers are 3-4 percentage points more likely to accept the coupon in the afternoon\n",
    "\n",
    "__To see an increase in carryout coupons accepted, they should be targeted more towards afternoon drivers who are male, lower income, and single__\n",
    "***"
   ]
  },
  {
   "cell_type": "markdown",
   "metadata": {},
   "source": [
    "### Next Steps and Recommendations\n",
    "There are other questions that need to be answered in the coupon acceptance data:\n",
    "1. What are the trends for the three other kinds of coupons (expensive restaurants, cheap restaurants, and coffee bars) and how do these differ from the other two categories?\n",
    "2. How can we better target frequent bar users with bar coupons and target afternoon driving single males with carryout coupons?\n",
    "3. Can we get to more granular answers within bar and carryout coupon users that weren't addressed in this analysis (e.g., further stratification of gender differences across age and income)?"
   ]
  },
  {
   "cell_type": "code",
   "execution_count": null,
   "metadata": {},
   "outputs": [],
   "source": []
  }
 ],
 "metadata": {
  "colab": {
   "provenance": []
  },
  "kernelspec": {
   "display_name": "Python 3 (ipykernel)",
   "language": "python",
   "name": "python3"
  },
  "language_info": {
   "codemirror_mode": {
    "name": "ipython",
    "version": 3
   },
   "file_extension": ".py",
   "mimetype": "text/x-python",
   "name": "python",
   "nbconvert_exporter": "python",
   "pygments_lexer": "ipython3",
   "version": "3.12.4"
  }
 },
 "nbformat": 4,
 "nbformat_minor": 4
}
